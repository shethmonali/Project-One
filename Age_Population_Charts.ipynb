{
 "cells": [
  {
   "cell_type": "code",
   "execution_count": 1,
   "metadata": {
    "collapsed": true
   },
   "outputs": [],
   "source": [
    "# Dependencies\n",
    "import pandas as pd\n",
    "import matplotlib.pyplot as plt\n",
    "import seaborn as sns"
   ]
  },
  {
   "cell_type": "code",
   "execution_count": 2,
   "metadata": {
    "collapsed": true
   },
   "outputs": [],
   "source": [
    "# Read Yelp_Census Data File and store into Pandas Data Frames\n",
    "yelp_census_data = pd.read_csv(\"yelp_census_data.csv\")"
   ]
  },
  {
   "cell_type": "code",
   "execution_count": 3,
   "metadata": {},
   "outputs": [
    {
     "data": {
      "text/html": [
       "<div>\n",
       "<style>\n",
       "    .dataframe thead tr:only-child th {\n",
       "        text-align: right;\n",
       "    }\n",
       "\n",
       "    .dataframe thead th {\n",
       "        text-align: left;\n",
       "    }\n",
       "\n",
       "    .dataframe tbody tr th {\n",
       "        vertical-align: top;\n",
       "    }\n",
       "</style>\n",
       "<table border=\"1\" class=\"dataframe\">\n",
       "  <thead>\n",
       "    <tr style=\"text-align: right;\">\n",
       "      <th></th>\n",
       "      <th>Unnamed: 0</th>\n",
       "      <th>Median Age</th>\n",
       "      <th>Population</th>\n",
       "      <th>White</th>\n",
       "      <th>Black</th>\n",
       "      <th>Asian</th>\n",
       "      <th>Hispanic</th>\n",
       "      <th>Poverty Count</th>\n",
       "      <th>Household Income</th>\n",
       "      <th>Per Capita Income</th>\n",
       "      <th>Zip Code</th>\n",
       "      <th>Review Count</th>\n",
       "      <th>Price</th>\n",
       "      <th>Average Rating</th>\n",
       "    </tr>\n",
       "  </thead>\n",
       "  <tbody>\n",
       "    <tr>\n",
       "      <th>0</th>\n",
       "      <td>0</td>\n",
       "      <td>28.0</td>\n",
       "      <td>57942</td>\n",
       "      <td>20811</td>\n",
       "      <td>5153</td>\n",
       "      <td>97</td>\n",
       "      <td>52223</td>\n",
       "      <td>18902</td>\n",
       "      <td>34323</td>\n",
       "      <td>11294</td>\n",
       "      <td>90001</td>\n",
       "      <td>3056</td>\n",
       "      <td>NaN</td>\n",
       "      <td>3.917866</td>\n",
       "    </tr>\n",
       "    <tr>\n",
       "      <th>1</th>\n",
       "      <td>1</td>\n",
       "      <td>27.5</td>\n",
       "      <td>51826</td>\n",
       "      <td>19573</td>\n",
       "      <td>11188</td>\n",
       "      <td>311</td>\n",
       "      <td>39527</td>\n",
       "      <td>18302</td>\n",
       "      <td>32520</td>\n",
       "      <td>11212</td>\n",
       "      <td>90002</td>\n",
       "      <td>4943</td>\n",
       "      <td>NaN</td>\n",
       "      <td>4.124924</td>\n",
       "    </tr>\n",
       "    <tr>\n",
       "      <th>2</th>\n",
       "      <td>2</td>\n",
       "      <td>28.0</td>\n",
       "      <td>70208</td>\n",
       "      <td>18114</td>\n",
       "      <td>16206</td>\n",
       "      <td>180</td>\n",
       "      <td>53630</td>\n",
       "      <td>24556</td>\n",
       "      <td>31878</td>\n",
       "      <td>10611</td>\n",
       "      <td>90003</td>\n",
       "      <td>6564</td>\n",
       "      <td>NaN</td>\n",
       "      <td>4.249543</td>\n",
       "    </tr>\n",
       "    <tr>\n",
       "      <th>3</th>\n",
       "      <td>3</td>\n",
       "      <td>35.5</td>\n",
       "      <td>63095</td>\n",
       "      <td>25611</td>\n",
       "      <td>2405</td>\n",
       "      <td>15870</td>\n",
       "      <td>31965</td>\n",
       "      <td>12919</td>\n",
       "      <td>43180</td>\n",
       "      <td>29194</td>\n",
       "      <td>90004</td>\n",
       "      <td>12633</td>\n",
       "      <td>NaN</td>\n",
       "      <td>4.260548</td>\n",
       "    </tr>\n",
       "    <tr>\n",
       "      <th>4</th>\n",
       "      <td>4</td>\n",
       "      <td>33.9</td>\n",
       "      <td>39338</td>\n",
       "      <td>7471</td>\n",
       "      <td>2213</td>\n",
       "      <td>13289</td>\n",
       "      <td>20199</td>\n",
       "      <td>11520</td>\n",
       "      <td>31485</td>\n",
       "      <td>20265</td>\n",
       "      <td>90005</td>\n",
       "      <td>13671</td>\n",
       "      <td>NaN</td>\n",
       "      <td>4.324738</td>\n",
       "    </tr>\n",
       "  </tbody>\n",
       "</table>\n",
       "</div>"
      ],
      "text/plain": [
       "   Unnamed: 0  Median Age  Population  White  Black  Asian  Hispanic  \\\n",
       "0           0        28.0       57942  20811   5153     97     52223   \n",
       "1           1        27.5       51826  19573  11188    311     39527   \n",
       "2           2        28.0       70208  18114  16206    180     53630   \n",
       "3           3        35.5       63095  25611   2405  15870     31965   \n",
       "4           4        33.9       39338   7471   2213  13289     20199   \n",
       "\n",
       "   Poverty Count  Household Income  Per Capita Income  Zip Code  Review Count  \\\n",
       "0          18902             34323              11294     90001          3056   \n",
       "1          18302             32520              11212     90002          4943   \n",
       "2          24556             31878              10611     90003          6564   \n",
       "3          12919             43180              29194     90004         12633   \n",
       "4          11520             31485              20265     90005         13671   \n",
       "\n",
       "   Price  Average Rating  \n",
       "0    NaN        3.917866  \n",
       "1    NaN        4.124924  \n",
       "2    NaN        4.249543  \n",
       "3    NaN        4.260548  \n",
       "4    NaN        4.324738  "
      ]
     },
     "execution_count": 3,
     "metadata": {},
     "output_type": "execute_result"
    }
   ],
   "source": [
    "yelp_census_data.head()"
   ]
  },
  {
   "cell_type": "code",
   "execution_count": 4,
   "metadata": {},
   "outputs": [
    {
     "data": {
      "text/html": [
       "<div>\n",
       "<style>\n",
       "    .dataframe thead tr:only-child th {\n",
       "        text-align: right;\n",
       "    }\n",
       "\n",
       "    .dataframe thead th {\n",
       "        text-align: left;\n",
       "    }\n",
       "\n",
       "    .dataframe tbody tr th {\n",
       "        vertical-align: top;\n",
       "    }\n",
       "</style>\n",
       "<table border=\"1\" class=\"dataframe\">\n",
       "  <thead>\n",
       "    <tr style=\"text-align: right;\">\n",
       "      <th></th>\n",
       "      <th>Zip Code</th>\n",
       "      <th>Median Age</th>\n",
       "      <th>Population</th>\n",
       "      <th>Review Count</th>\n",
       "      <th>Average Rating</th>\n",
       "    </tr>\n",
       "  </thead>\n",
       "  <tbody>\n",
       "    <tr>\n",
       "      <th>0</th>\n",
       "      <td>90001</td>\n",
       "      <td>28.0</td>\n",
       "      <td>57942</td>\n",
       "      <td>3056</td>\n",
       "      <td>3.917866</td>\n",
       "    </tr>\n",
       "    <tr>\n",
       "      <th>1</th>\n",
       "      <td>90002</td>\n",
       "      <td>27.5</td>\n",
       "      <td>51826</td>\n",
       "      <td>4943</td>\n",
       "      <td>4.124924</td>\n",
       "    </tr>\n",
       "    <tr>\n",
       "      <th>2</th>\n",
       "      <td>90003</td>\n",
       "      <td>28.0</td>\n",
       "      <td>70208</td>\n",
       "      <td>6564</td>\n",
       "      <td>4.249543</td>\n",
       "    </tr>\n",
       "    <tr>\n",
       "      <th>3</th>\n",
       "      <td>90004</td>\n",
       "      <td>35.5</td>\n",
       "      <td>63095</td>\n",
       "      <td>12633</td>\n",
       "      <td>4.260548</td>\n",
       "    </tr>\n",
       "    <tr>\n",
       "      <th>4</th>\n",
       "      <td>90005</td>\n",
       "      <td>33.9</td>\n",
       "      <td>39338</td>\n",
       "      <td>13671</td>\n",
       "      <td>4.324738</td>\n",
       "    </tr>\n",
       "  </tbody>\n",
       "</table>\n",
       "</div>"
      ],
      "text/plain": [
       "   Zip Code  Median Age  Population  Review Count  Average Rating\n",
       "0     90001        28.0       57942          3056        3.917866\n",
       "1     90002        27.5       51826          4943        4.124924\n",
       "2     90003        28.0       70208          6564        4.249543\n",
       "3     90004        35.5       63095         12633        4.260548\n",
       "4     90005        33.9       39338         13671        4.324738"
      ]
     },
     "execution_count": 4,
     "metadata": {},
     "output_type": "execute_result"
    }
   ],
   "source": [
    "#Create updated dataframe with select columns\n",
    "\n",
    "yelp_census2 = yelp_census_data[[\"Zip Code\", \"Median Age\", \"Population\", \"Review Count\", \"Average Rating\"]]\n",
    "yelp_census2.head()"
   ]
  },
  {
   "cell_type": "code",
   "execution_count": 5,
   "metadata": {},
   "outputs": [
    {
     "data": {
      "text/html": [
       "<div>\n",
       "<style>\n",
       "    .dataframe thead tr:only-child th {\n",
       "        text-align: right;\n",
       "    }\n",
       "\n",
       "    .dataframe thead th {\n",
       "        text-align: left;\n",
       "    }\n",
       "\n",
       "    .dataframe tbody tr th {\n",
       "        vertical-align: top;\n",
       "    }\n",
       "</style>\n",
       "<table border=\"1\" class=\"dataframe\">\n",
       "  <thead>\n",
       "    <tr style=\"text-align: right;\">\n",
       "      <th></th>\n",
       "      <th>Average Rating</th>\n",
       "      <th>Median Age</th>\n",
       "      <th>Population</th>\n",
       "      <th>Review Count</th>\n",
       "      <th>Review Count Rate</th>\n",
       "    </tr>\n",
       "    <tr>\n",
       "      <th>Median Age Groups</th>\n",
       "      <th></th>\n",
       "      <th></th>\n",
       "      <th></th>\n",
       "      <th></th>\n",
       "      <th></th>\n",
       "    </tr>\n",
       "  </thead>\n",
       "  <tbody>\n",
       "    <tr>\n",
       "      <th>&lt;20</th>\n",
       "      <td>4.105676</td>\n",
       "      <td>17.880000</td>\n",
       "      <td>17474</td>\n",
       "      <td>15152</td>\n",
       "      <td>0.867117</td>\n",
       "    </tr>\n",
       "    <tr>\n",
       "      <th>20-24</th>\n",
       "      <td>4.051379</td>\n",
       "      <td>23.104348</td>\n",
       "      <td>371336</td>\n",
       "      <td>137332</td>\n",
       "      <td>0.369832</td>\n",
       "    </tr>\n",
       "    <tr>\n",
       "      <th>25-34</th>\n",
       "      <td>4.195753</td>\n",
       "      <td>31.520040</td>\n",
       "      <td>17171318</td>\n",
       "      <td>2901083</td>\n",
       "      <td>0.168949</td>\n",
       "    </tr>\n",
       "    <tr>\n",
       "      <th>35-44</th>\n",
       "      <td>4.172399</td>\n",
       "      <td>39.690842</td>\n",
       "      <td>18300978</td>\n",
       "      <td>5114262</td>\n",
       "      <td>0.279453</td>\n",
       "    </tr>\n",
       "    <tr>\n",
       "      <th>45-54</th>\n",
       "      <td>4.134822</td>\n",
       "      <td>49.493667</td>\n",
       "      <td>2364198</td>\n",
       "      <td>1383684</td>\n",
       "      <td>0.585266</td>\n",
       "    </tr>\n",
       "    <tr>\n",
       "      <th>55-64</th>\n",
       "      <td>4.151968</td>\n",
       "      <td>59.146154</td>\n",
       "      <td>230194</td>\n",
       "      <td>305363</td>\n",
       "      <td>1.326546</td>\n",
       "    </tr>\n",
       "    <tr>\n",
       "      <th>65+</th>\n",
       "      <td>4.198440</td>\n",
       "      <td>68.890000</td>\n",
       "      <td>63766</td>\n",
       "      <td>73373</td>\n",
       "      <td>1.150660</td>\n",
       "    </tr>\n",
       "  </tbody>\n",
       "</table>\n",
       "</div>"
      ],
      "text/plain": [
       "                   Average Rating  Median Age  Population  Review Count  \\\n",
       "Median Age Groups                                                         \n",
       "<20                      4.105676   17.880000       17474         15152   \n",
       "20-24                    4.051379   23.104348      371336        137332   \n",
       "25-34                    4.195753   31.520040    17171318       2901083   \n",
       "35-44                    4.172399   39.690842    18300978       5114262   \n",
       "45-54                    4.134822   49.493667     2364198       1383684   \n",
       "55-64                    4.151968   59.146154      230194        305363   \n",
       "65+                      4.198440   68.890000       63766         73373   \n",
       "\n",
       "                   Review Count Rate  \n",
       "Median Age Groups                     \n",
       "<20                         0.867117  \n",
       "20-24                       0.369832  \n",
       "25-34                       0.168949  \n",
       "35-44                       0.279453  \n",
       "45-54                       0.585266  \n",
       "55-64                       1.326546  \n",
       "65+                         1.150660  "
      ]
     },
     "execution_count": 5,
     "metadata": {},
     "output_type": "execute_result"
    }
   ],
   "source": [
    "# Establish the bins \n",
    "age_bins = [0,20,25,35,45,55,65,200]\n",
    "group_names = [\"<20\", \"20-24\", \"25-34\", \"35-44\", \"45-54\", \"55-64\", \"65+\"]\n",
    "\n",
    "# Categorize the existing players using the age bins\n",
    "yelp_age = yelp_census2.copy()\n",
    "yelp_age[\"Median Age Groups\"] = pd.cut(yelp_age[\"Median Age\"], age_bins, labels=group_names)\n",
    "\n",
    "#Create columns for new DataFrame\n",
    "yelp_age_2 = yelp_age.groupby([\"Median Age Groups\"])\n",
    "#zip_code = yelp_age_2[\"Zip Code\"]\n",
    "median_age = yelp_age_2[\"Median Age\"].mean()\n",
    "population = yelp_age_2[\"Population\"].sum()\n",
    "review_count = yelp_age_2[\"Review Count\"].sum()\n",
    "avg_rating = yelp_age_2[\"Average Rating\"].mean()\n",
    "rvw_per_pop = review_count/population\n",
    "\n",
    "age_bin_df = pd.DataFrame({ #\"Zip Code\": zip_code,\n",
    "                            \"Median Age\": median_age,\n",
    "                            \"Population\": population,\n",
    "                            \"Review Count\": review_count,\n",
    "                            \"Average Rating\": avg_rating,\n",
    "                            \"Review Count Rate\": rvw_per_pop})\n",
    "\n",
    "age_bin_df.style.format({\"Review Count Rate\": \"%{:.2f}\"})\n",
    "\n",
    "age_bin_df"
   ]
  },
  {
   "cell_type": "code",
   "execution_count": 6,
   "metadata": {},
   "outputs": [
    {
     "data": {
      "image/png": "[encoded data removed]",
      "text/plain": [
       "<matplotlib.figure.Figure at 0x117c41668>"
      ]
     },
     "metadata": {},
     "output_type": "display_data"
    }
   ],
   "source": [
    "#Bar Plot Depicting Review Count by Age of Yelp Users\n",
    "\n",
    "plt.bar(age_bin_df[\"Median Age\"],\n",
    "        age_bin_df[\"Review Count\"], \n",
    "        edgecolor=\"white\", width = 3, color= \"red\")\n",
    "            \n",
    "\n",
    "# Incorporate the other graph properties\n",
    "plt.title(\"Review Count by Age of Yelp Users\")\n",
    "plt.ylabel(\"Review Count\")\n",
    "plt.xlabel(\"Median Age\")\n",
    "plt.ylim((10000,5500000))\n",
    "plt.grid(True)\n",
    "sns.set()\n",
    "\n",
    "plt.show()\n"
   ]
  },
  {
   "cell_type": "code",
   "execution_count": 7,
   "metadata": {},
   "outputs": [
    {
     "data": {
      "image/png": "[encoded data removed]",
      "text/plain": [
       "<matplotlib.figure.Figure at 0x117c41828>"
      ]
     },
     "metadata": {},
     "output_type": "display_data"
    }
   ],
   "source": [
    "#Bar Plot Depicting Ratings by Age of Yelp Users\n",
    "\n",
    "plt.bar(age_bin_df[\"Median Age\"],\n",
    "        age_bin_df[\"Average Rating\"], \n",
    "        edgecolor=\"white\", width = 3, color= 'blue')\n",
    "            #alpha=0.6, label=\"Rating\")\n",
    "\n",
    "#Data Labels\n",
    "def autolabel(rects):\n",
    "    for rect in rects:\n",
    "        height = rect.get_height()\n",
    "        plt.text(height,\n",
    "                ha='right', va='top', color='black', fontsize=14)\n",
    "\n",
    "# Incorporate the other graph properties\n",
    "plt.title(\"Review Count by Age of Yelp Users\")\n",
    "plt.ylabel(\"Average Ratings\")\n",
    "plt.xlabel(\"Meidan Age\")\n",
    "plt.ylim((3.5,5))\n",
    "plt.grid(True)\n",
    "sns.set()\n",
    "\n",
    "plt.show()"
   ]
  },
  {
   "cell_type": "code",
   "execution_count": 8,
   "metadata": {},
   "outputs": [
    {
     "data": {
      "image/png": "[encoded data removed]",
      "text/plain": [
       "<matplotlib.figure.Figure at 0x117c41fd0>"
      ]
     },
     "metadata": {},
     "output_type": "display_data"
    }
   ],
   "source": [
    "#Bar Plot Depicting Review Count by Age of Yelp Users\n",
    "\n",
    "plt.bar(age_bin_df[\"Median Age\"],\n",
    "        age_bin_df[\"Review Count Rate\"], \n",
    "        edgecolor=\"white\", width = 3, color='green')\n",
    "\n",
    "# Incorporate the other graph properties\n",
    "plt.title(\"Review Count Rate by Age of Yelp Users\")\n",
    "plt.ylabel(\"Review Count Rate\")\n",
    "plt.xlabel(\"Median Age\")\n",
    "plt.ylim((0,2))\n",
    "plt.grid(True)\n",
    "sns.set()\n",
    "\n",
    "plt.show()"
   ]
  },
  {
   "cell_type": "code",
   "execution_count": 12,
   "metadata": {},
   "outputs": [
    {
     "data": {
      "image/png": "[encoded data removed]",
      "text/plain": [
       "<matplotlib.figure.Figure at 0x1181ed7f0>"
      ]
     },
     "metadata": {},
     "output_type": "display_data"
    }
   ],
   "source": [
    "# All-in Bubble Plot of Population vs Review Count with 'Average Rating' as Bubble size\n",
    "plt.scatter(age_bin_df[\"Population\"],\n",
    "            age_bin_df[\"Review Count\"],\n",
    "            s=age_bin_df[\"Average Rating\"]*100, c=sns.cubehelix_palette(8, start=.5, rot=-.75), \n",
    "            edgecolor=\"white\", linewidths=1, marker=\"o\", \n",
    "            alpha=0.6, label=\"Rating\")\n",
    "\n",
    "# Incorporate the other graph properties\n",
    "plt.title(\"Population vs Yelp Review Count\")\n",
    "plt.ylabel(\"Review Count\")\n",
    "plt.xlabel(\"Population\")\n",
    "plt.ylim((10000,5500000))\n",
    "plt.grid(True)\n",
    "sns.set()\n",
    "\n",
    "plt.show()"
   ]
  },
  {
   "cell_type": "code",
   "execution_count": 13,
   "metadata": {},
   "outputs": [
    {
     "data": {
      "image/png": "[encoded data removed]",
      "text/plain": [
       "<matplotlib.figure.Figure at 0x11812e668>"
      ]
     },
     "metadata": {},
     "output_type": "display_data"
    }
   ],
   "source": [
    "# Density Estimation Plot of Popluation vs Household income\n",
    "hexplot = sns.jointplot(x=age_bin_df[\"Review Count\"], y=age_bin_df[\"Population\"], data=age_bin_df, kind=\"kde\");\n",
    "\n",
    "plt.show()"
   ]
  },
  {
   "cell_type": "code",
   "execution_count": null,
   "metadata": {
    "collapsed": true
   },
   "outputs": [],
   "source": []
  }
 ],
 "metadata": {
  "kernelspec": {
   "display_name": "Python [PythonData]",
   "language": "python",
   "name": "pythondata"
  },
  "language_info": {
   "codemirror_mode": {
    "name": "ipython",
    "version": 3
   },
   "file_extension": ".py",
   "mimetype": "text/x-python",
   "name": "python",
   "nbconvert_exporter": "python",
   "pygments_lexer": "ipython3",
   "version": "3.6.3"
  }
 },
 "nbformat": 4,
 "nbformat_minor": 2
}
